{
 "cells": [
  {
   "cell_type": "code",
   "execution_count": 17,
   "id": "a582ca2b",
   "metadata": {},
   "outputs": [],
   "source": [
    "#Definimos la Api que usaremos.\n",
    "\n",
    "API_KEY = 'S7GksUxo4XxZ9pAvKlnwLuKBy'\n",
    "API_SECRET_KEY = 'QuBBlS30QpznWlcLIjIXJ3yg1lvTGXv28bSsgFafRtlXAfKjEk'\n",
    "ACCESS_TOKEN = 'AAAAAAAAAAAAAAAAAAAAAI%2FJZQEAAAAAOCJzoDDMzx0qsB7SiRGdBYMK754%3DzrJe2daIBUr9wr0NQIE4sFfFTccuZUekJZ9M48Lx4DwBmC6UMQ'\n",
    "ACCESS_TOKEN_SECRET = 'S7GksUxo4XxZ9pAvKlnwLuKBy'"
   ]
  },
  {
   "cell_type": "code",
   "execution_count": 36,
   "id": "d08297cb",
   "metadata": {},
   "outputs": [
    {
     "name": "stdout",
     "output_type": "stream",
     "text": [
      "Requirement already satisfied: credentials in d:\\programas\\anaconda navigator\\lib\\site-packages (1.1)\n"
     ]
    }
   ],
   "source": [
    "from agents import *\n",
    "def psource(*functions):\n",
    "    \"\"\"Print the source code for the given function(s).\"\"\"\n",
    "    source_code = '\\n\\n'.join(getsource(fn) for fn in functions)\n",
    "    try:\n",
    "        from pygments.formatters import HtmlFormatter\n",
    "        from pygments.lexers import PythonLexer\n",
    "        from pygments import highlight\n",
    "\n",
    "        display(HTML(highlight(source_code, PythonLexer(), HtmlFormatter(full=True))))\n",
    "\n",
    "    except ImportError:\n",
    "        print(source_code)\n",
    "# ______________________________________________________________________________\n",
    "# Iris Visualization\n",
    "!pip install credentials\n",
    "import credentials\n",
    "import tweepy\n",
    "#necesitamos conectar la libreria de tweepy con nuestra cuenta de desarrollador.\n",
    "from tweepy import OAuthHandler"
   ]
  },
  {
   "cell_type": "code",
   "execution_count": 40,
   "id": "a874072d",
   "metadata": {},
   "outputs": [],
   "source": [
    "##Obtenemos las APi y generamos los tweets, por autenticacion.\n",
    "\n",
    "#auth = tweepy.OAuthHandler(credentials.API_KEY, credentials.API_SECRET_KEY)\n",
    "#auth.set_access_token(credentials.ACCESS_TOKEN, credentials.ACCESS_TOKEN_SECRET)\n",
    "#api = tweepy.API(auth)"
   ]
  },
  {
   "cell_type": "code",
   "execution_count": 7,
   "id": "7babf210",
   "metadata": {},
   "outputs": [
    {
     "name": "stdout",
     "output_type": "stream",
     "text": [
      "Object `(Agent)` not found.\n"
     ]
    }
   ],
   "source": [
    "psource(Agent) \n",
    "# Llamamos al agente."
   ]
  },
  {
   "cell_type": "code",
   "execution_count": 8,
   "id": "8e3f5471",
   "metadata": {},
   "outputs": [
    {
     "name": "stdout",
     "output_type": "stream",
     "text": [
      "Object `(Environment)` not found.\n"
     ]
    }
   ],
   "source": [
    "psource(Environment)\n",
    "# Llamamos al entorno de desarrollo que en este caso es twitter."
   ]
  },
  {
   "cell_type": "code",
   "execution_count": 9,
   "id": "e1ff5bfd",
   "metadata": {},
   "outputs": [
    {
     "name": "stdout",
     "output_type": "stream",
     "text": [
      "Can't find a valid program for CatchTwitter, falling back to default.\n"
     ]
    }
   ],
   "source": [
    "#Obtenemos informacion relevante como la ubicacion y patrones que coincidan con la busqueda.\n",
    "\n",
    "class CatchTwitter(Agent):\n",
    "    def followTweets(self, thing):\n",
    "        print(\"The Twitter Follow {}.\".format(self.location))\n",
    "            \n",
    "    def PatternMatch(self, thing):\n",
    "        print(\"The Pattern Matching {}.\".format( self.location))\n",
    "\n",
    "api = CatchTwitter()"
   ]
  },
  {
   "cell_type": "code",
   "execution_count": null,
   "id": "d972d214",
   "metadata": {},
   "outputs": [],
   "source": []
  },
  {
   "cell_type": "code",
   "execution_count": null,
   "id": "2182adbf",
   "metadata": {
    "scrolled": true
   },
   "outputs": [],
   "source": []
  },
  {
   "cell_type": "code",
   "execution_count": null,
   "id": "4274bed3",
   "metadata": {},
   "outputs": [],
   "source": []
  }
 ],
 "metadata": {
  "kernelspec": {
   "display_name": "Python 3 (ipykernel)",
   "language": "python",
   "name": "python3"
  },
  "language_info": {
   "codemirror_mode": {
    "name": "ipython",
    "version": 3
   },
   "file_extension": ".py",
   "mimetype": "text/x-python",
   "name": "python",
   "nbconvert_exporter": "python",
   "pygments_lexer": "ipython3",
   "version": "3.9.7"
  }
 },
 "nbformat": 4,
 "nbformat_minor": 5
}
